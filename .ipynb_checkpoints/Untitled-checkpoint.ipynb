{
 "cells": [
  {
   "cell_type": "code",
   "execution_count": 1,
   "metadata": {},
   "outputs": [],
   "source": [
    "import numpy as np\n",
    "import scipy as sp\n",
    "from scipy import integrate\n",
    "from scipy.interpolate import interp1d \n",
    "import math as math\n",
    "import sys, platform, os\n",
    "import re\n",
    "import camb\n",
    "from camb import model, initialpower\n",
    "#from mpi4py.futures import MPIPoolExecutor\n",
    "#import time"
   ]
  },
  {
   "cell_type": "code",
   "execution_count": 2,
   "metadata": {},
   "outputs": [],
   "source": [
    "\n",
    "#Fiducial cosmological parameters Planck 2018\n",
    "c=3e5\n",
    "hubble=0.6766\n",
    "omegab=0.02242*pow(hubble,-2)\n",
    "omegac=0.11933*pow(hubble,-2)\n",
    "om0= 0.3111  #omegac+omegab\n",
    "H00=100*hubble\n",
    "Ass=2.14e-9\n",
    "nss = 0.9665\n",
    "gamma=0.545\n",
    "\n",
    "#SET REDSHIFT \n",
    "Z = 1.0\n",
    "\n",
    "#table of b_e and Q from doppler draft\n",
    "euclid_data = np.loadtxt('snr_surveyparams.txt')\n",
    "#the table from the draft  has columns z, b_e, Q\n",
    "z_euclid = euclid_data[:,0]\n",
    "be_euclid = interp1d(z_euclid, euclid_data[:,1])\n",
    "Q_euclid = interp1d(z_euclid,  euclid_data[:,2])\n",
    "ngt_euclid = interp1d(z_euclid,1e-3 * hubble**(3) * euclid_data[:,3])\n",
    "vt_euclid = interp1d(z_euclid, 1e9 * (1/hubble**3) *euclid_data[:,4])\n",
    "sigma_euclid = interp1d(z_euclid,(1/hubble) *  euclid_data[:,5])\n",
    "#Set up the fiducial cosmology (CAMB)\n",
    "pars = camb.CAMBparams()\n",
    "pars.set_cosmology(H0=H00, ombh2=omegab*pow(hubble,2), omch2=omegac*pow(hubble,2),omk=0,mnu=0)\n",
    "pars.set_dark_energy() #LCDM (default)\n",
    "pars.InitPower.set_params(ns=nss, r=0, As=Ass)\n",
    "pars.set_for_lmax(2500, lens_potential_accuracy=0);\n",
    "\n",
    "\n",
    "background = camb.get_background(pars)\n",
    "#Get matter power spectrum at z=zbin\n",
    "\n",
    "zbin = Z\n",
    "pars.set_matter_power(redshifts=[zbin], kmax=2.0)\n",
    "pars.NonLinear = model.NonLinear_none\n",
    "\n",
    "results = camb.get_results(pars)\n",
    "kh, z, pk = results.get_matter_power_spectrum(minkh=1e-4, maxkh=2.0, npoints = 10000)\n",
    "s8 = np.array(results.get_sigma8())\n",
    "\n",
    "#Pm in Mpc^3 units, at z=Z\n",
    "Pmz  =interp1d(kh*hubble, (pk[0]/pow(hubble,3)))\n",
    "\n",
    "\n",
    "#Define E(z) = H(z)/H0\n",
    "def Ez(zc):\n",
    "    return np.sqrt(1-om0+om0*pow(1+zc,3))\n",
    "#Define the comoving distance\n",
    "def drdz(zp):\n",
    "    return (c/H00)/Ez(zp)\n",
    "def rcom(zc):\n",
    "    return sp.integrate.romberg(drdz,0,zc)\n",
    "\n",
    "#Define the growth function in LCDM\n",
    "def get_growth(zz):\n",
    "    omz=om0*pow(1+zz,3)/(om0*pow(1+zz,3)+1-om0)\n",
    "    return pow(omz,gamma)\n",
    "\n",
    "#Get the growth factor \n",
    "def Dg_dz(zz):\n",
    "    return get_growth(zz)/(1+zz)\n",
    "def Dgz(zc):\n",
    "    ans = sp.integrate.romberg(Dg_dz, 0.0, zc)\n",
    "    return np.exp(-ans)\n",
    "\n",
    "#Power spectrum as fn of z (alternative way of computing it- slower) \n",
    "#def Pmz(kk,zc):    \n",
    "#    return pow(Dgz(zc),2)*Pmz0(kk)\n"
   ]
  },
  {
   "cell_type": "code",
   "execution_count": 3,
   "metadata": {},
   "outputs": [],
   "source": [
    "\n",
    "Hu = results.h_of_z(Z) * (1/(1 + Z))\n",
    "H0 = results.h_of_z(0)\n",
    "om_m0 = om0\n",
    "om_m = om_m0 * (H0**2/Hu**2) *(1+Z)\n",
    "f = get_growth(Z) \n",
    "df = Hu* ((1/2)*(3*om_m -4)*f - f**2 + (3/2)*om_m)\n",
    "dHu = H0**2 * (-(1/2)* (1+Z) * om_m0 + (1/(1+Z))**2 * (1-om_m0))\n",
    "ddHu = H0**2 * ( (1/2)*Hu*(1+Z)*om_m0 + (1/(1+Z))**2 * 2 * Hu * (1-om_m0) )\n",
    "chi = results.angular_diameter_distance(Z) * (1 + Z)\n",
    "cap_L = 1\n",
    "partdQ=0\n",
    "B1 = 0.9 + 0.4 * Z\n",
    "db1 = -0.4 * Hu * (1 + Z)\n",
    "B2 = -0.741 - 0.125 * Z + 0.123 * Z**2 + 0.00637 * Z**3\n",
    "b_e = be_euclid(Z)\n",
    "db_e=0\n",
    "bs = 0.0409 - 0.199 * Z - 0.0166 * Z**2 + 0.00268 * Z**3\n",
    "Q = Q_euclid(Z)\n",
    "dQ= 0\n",
    "gamma1 = Hu* (f * (b_e - 2*Q -(2*(1-Q)/(chi*Hu)) - (dHu/Hu**2)))\n",
    "gamma2 = Hu**2 * (f*(3-b_e) + (3/2)*om_m*(2+b_e - f- 4*Q - (2*(1-Q)/(chi*Hu)) - (dHu/Hu**2) ))\n",
    "partdb1 = 0 \n",
    "fnl=0\n",
    "\n",
    "#also use fitting formulas from the draft to find V, ng, sigma\n",
    "#sigma = (5.29 - 0.249 * Z - 0.720 * Z**2 + 0.187 * Z**3)#/hubble\n",
    "#ng_euclid =0.0193 * pow(Z, -0.0282) * np.exp(-2.81 * Z) * 1e-3 * hubble**3\n",
    "#v_euclid = 8.85 * pow(Z, 1.65) * np.exp(-0.777 * Z) * 1e9 * (1/(hubble**3))\n",
    "\n",
    "sigma = sigma_euclid(Z)\n",
    "ng_euclid = ngt_euclid(Z)\n",
    "v_euclid = vt_euclid(Z)\n",
    "\n",
    "#beta coeffs\n",
    "beta = {}\n",
    "beta[1] = Hu**4 * ((9.0/4.0)*om_m**2 * (6- 2*f * (2*b_e - 4*Q - (4*(1-Q))/(chi*Hu) - (2*dHu)/(Hu**2)) - (2*df)/(Hu) + b_e**2 + 5*b_e - 8*b_e*Q + 4*Q + 16*Q**2 - 16*partdQ - 8*dQ/Hu + db_e/Hu + (2/(chi**2 * Hu**2))*(1-Q + 2*Q**2 - 2*partdQ)  - (2/(chi*Hu))*(3+2*b_e - 2*b_e*Q - 3*Q + 8*Q**2 - (3*dHu/Hu**2)*(1-Q) - 8*partdQ - 2*dQ/Hu) + (dHu/Hu**2)*(-7 -2*b_e + 8*Q + (3*dHu/Hu**2)) - (ddHu/Hu**3))  + ((3/2)*om_m * f)*(5 - 2*f*(4-b_e) + (2*df/Hu) + 2*b_e*(5 + ((2*(1-Q))/(chi*Hu))) - (2*db_e/Hu) - 2*b_e**2 + 8*b_e*Q - 28*Q - (14*(1-Q)/(chi*Hu)) - 3*dHu/Hu**2 + 4*(2-(1/(chi*Hu)))*(dQ/Hu) ) + ((3/2)*om_m*f**2)*(-2 + 2*f -b_e + 4*Q + (2*(1-Q)/(chi*Hu)) + (3*dHu/Hu**2) - (12/3)*fnl ) + f**2 * (12-7*b_e + b_e**2 + (db_e/Hu) + (b_e - 3)*(dHu/Hu**2)) - (3/2)*om_m*(df/Hu))\n",
    "beta[2] = Hu**4* ((9/2)*om_m**2 * (-1 + b_e - 2*Q - ((2*(1-Q))/(chi*Hu)) - (dHu/Hu**2) ) + 3*om_m*f*(-1 + 2*f -b_e + 4*Q + (2*(1-Q)/(chi*Hu)) + (3*dHu/Hu**2) )  + 3*om_m * f**2 * (-1+b_e-2*Q - ((2*(1-Q))/(chi*Hu)) - (dHu/Hu**2))  + 3*om_m*(df/Hu))\n",
    "beta[3] = Hu**3 * ((9/4)*om_m**2 *(f-2+2*Q) + (3/2)*om_m*f * (-2 -f*(-3 + f + 2*b_e - 3*Q - ((4*(1-Q))/(chi*Hu)) - (2*dHu/Hu**2)) - (df/Hu) + 3*b_e + b_e**2 - 6*b_e*Q + 4*Q + 8*Q**2 - 8*partdQ - 6*(dQ/Hu) + (db_e/Hu) + (2/(chi**2*Hu**2))*(1-Q +2*Q**2 - 2*partdQ) + (2/(chi*Hu))*(-1 -2*b_e + 2*b_e*Q + Q - 6*Q**2 + (3*dHu/Hu**2)*(1-Q) + 6*partdQ + 2*(dQ/Hu) ) - (dHu/Hu**2)*(3+2*b_e - 6*Q - (3*dHu/Hu**2)) - (ddHu/Hu**3))  + f**2 * (-3 + 2*b_e*(2+ ((1-Q)/(chi*Hu))) - b_e**2 + 2*b_e*Q - 6*Q - (db_e/Hu) - ((6*(1-Q))/(chi*Hu)) + 2*(1-(1/(chi*Hu)))*(dQ/Hu) ))\n",
    "beta[4] = (Hu**3 * ((9/2)*om_m*f * (-b_e + 2*Q +  (2*(1-Q)/(chi*Hu)) + (dHu/Hu**2))))\n",
    "beta[5] = (Hu**3 * ( 3* om_m * f * (b_e - 2*Q -(2*(1-Q)/(chi*Hu)) - (dHu/Hu**2))  ))\n",
    "beta[6] = Hu**2 * ((3/2) *om_m * (2-2*f + b_e - 4*Q - ((2*(1-Q))/(chi*Hu)) - (dHu/Hu**2)))\n",
    "beta[7] = Hu**2*(f*(3-b_e))\n",
    "beta[8]= Hu**2*(3*om_m*f*(2-f-2*Q) + f**2 * (4 + b_e - b_e**2 + 4*b_e*Q - 6*Q - 4*Q**2 + 4*partdQ + 4*(dQ/Hu) -(db_e/Hu) - (2/(chi**2 * Hu**2))*(1-Q+2*Q**2 - 2*partdQ) - (2/(chi*Hu))*(3-2*b_e + 2*b_e*Q - Q - 4*Q**2 + ((3*dHu)/(Hu**2))*(1-Q) + 4*partdQ + 2*(dQ/Hu)) - (dHu/Hu**2)*(3-2*b_e+4*Q+((3*dHu)/(Hu**2))) + (ddHu/Hu**3)))\n",
    "beta[9] = (Hu**2 * ( -(9/2)*om_m*f ))\n",
    "beta[10] = (Hu**2 * (3 * om_m * f))\n",
    "beta[11] = Hu**2 * (3*om_m*(1+f) + 2*f - f**2*(-1+b_e-2*Q - ((2*(1+Q))/(chi*Hu)) - (dHu/Hu**2)))\n",
    "beta[12] = Hu**2*((3/2)*om_m * (-2 + B1 * (2+b_e-4*Q - ((2*(1-Q))/(chi*Hu)) - (dHu/Hu**2)) + (db1/Hu) + 2*(2-(1/(chi*Hu)))*partdb1) - f*(2+ B1*(f-3+b_e) + (db1/Hu)))\n",
    "beta[13] = ( (9.0/4.0)*om_m**2.0*Hu**2.0 )+ ( 1.5*om_m*f*Hu**2.0*(-(2.0*f)+(2.0*b_e)-(6.0*Q) -((4.0*(1.0-Q))/(chi*Hu)) -((3.0*dHu)/Hu**2.0) ) )+ ( f**2.0*Hu**2.0*(5.0-b_e) )\n",
    "beta[14] = Hu* ( -(3/2)*om_m*B1 )\n",
    "beta[15] = Hu*2*f**2 \n",
    "beta[16] = Hu*(f*(B1 * (f+b_e-2*Q - ((2*(1-Q))/(chi*Hu)) - (dHu/Hu**2)) + (db1/Hu) + 2*(1- (1/(chi*Hu)))*partdb1 ))\n",
    "beta[17] = Hu*(-(3/2)*om_m*f)\n",
    "beta[18] = Hu* ( (3/2)*om_m*f - f**2 * (3 - 2*b_e + 4*Q + ((4*(1-Q))/(chi*Hu)) + (3*dHu/Hu**2)) )\n",
    "beta[19] = Hu * (f* (b_e - 2*Q - ((2*(1-Q))/(chi*Hu)) - (dHu/Hu**2)))\n",
    "\n",
    "\n",
    "#power spectrum at redshift Z\n",
    "def Pm(i,k):\n",
    "    kk = k[i]\n",
    "    return Pmz(kk)\n"
   ]
  },
  {
   "cell_type": "code",
   "execution_count": 4,
   "metadata": {},
   "outputs": [],
   "source": [
    "#k = {1:k1,2:k2,3:k3,\"theta\":theta}\n",
    "#mu = {1:mu1,2:mu2,3:mu3}\n",
    "\n",
    "# def get_mus(self,MU_1,PHI,k):\n",
    "#     mu = {1:MU_1}\n",
    "#     mu[2]=mu[1]*np.cos(k[\"theta\"]) + np.sqrt(1.0-mu[1]**2) * np.sin(k[\"theta\"])*np.cos(PHI)\n",
    "#     mu[3] = - (k[1] / k[3]) * mu[1] - (k[2] / k[3]) * mu[2]\n",
    "#     return mu\n",
    "class NotATriangle(Exception):\n",
    "    pass\n",
    "\n",
    "def get_theta(k1,k2,k3):\n",
    "    x = 0.5 * (k3**2 - (k1**2 + k2**2))/(k1 * k2)\n",
    "    if x>1 or x<-1:\n",
    "        raise NotATriangle()\n",
    "    return np.arccos(x)\n",
    "\n",
    "def get_mus(MU_1,PHI,k):\n",
    "    mu = {1:MU_1}\n",
    "    mu[2]=mu[1]*np.cos(k[\"theta\"]) + np.sqrt(1.0-mu[1]**2) * np.sin(k[\"theta\"])*np.cos(PHI)\n",
    "    mu[3] = - (k[1] / k[3]) * mu[1] - (k[2] / k[3]) * mu[2]\n",
    "    return mu\n",
    "\n",
    "\n",
    "def get_cosinus(i,j,k):\n",
    "    perms = [1,2,3]\n",
    "    assert i!=j\n",
    "    assert i in perms\n",
    "    assert j in perms\n",
    "    perms.remove(i)\n",
    "    perms.remove(j)\n",
    "    l = perms[0]\n",
    "    \n",
    "    return 0.5 * (k[l]**2 - k[i]**2 - k[j]**2) / (k[i] * k[j])\n",
    "    \n",
    "#doppler snr: only O(1/k) corrections included\n",
    "\n",
    "def E(i,j,l,k):\n",
    "    cosinus = get_cosinus(i,j,k)\n",
    "    return ((k[i]**2 * k[j]**2) / (k[l]**4) ) * (3 + 2 * cosinus * (k[i]/k[j] + k[j]/k[i]) + cosinus**2  )\n",
    "\n",
    "def F(i,j,l,k):\n",
    "    cosinus = get_cosinus(i,j,k)\n",
    "    return 10/7 + cosinus * (k[i]/k[j] + k[j]/k[i]) + (1 - 3/7) * cosinus**2\n",
    "    \n",
    "def G(i,j,l,k):\n",
    "    cosinus = get_cosinus(i,j,k)\n",
    "    return 6/7 + cosinus * (k[i]/k[j] + k[j]/k[i]) + (2 - 6/7) * cosinus**2 \n",
    "\n",
    "def KN1(i,mu,B1,f):\n",
    "    return B1 + f * mu[i]**2\n",
    "\n",
    "def KGR1(i,mu,k,gamma1,gamma2):\n",
    "    return (gamma1/k[i])*1j*mu[i]\n",
    "\n",
    "def KN2(i,j,l,k,mu,B1,B2,f):\n",
    "    cosinus = get_cosinus(i,j,k)\n",
    "    F_f = F(i,j,l,k)\n",
    "    G_f = G(i,j,l,k)\n",
    "    p1 = B1 * F_f + B2 + f * G_f * mu[l]**2 \n",
    "    p2 = bs * (cosinus**2 - 1/3)\n",
    "    p3 = f**2 * (mu[i] * mu[j])/(k[i] * k[j]) * (mu[i] * k[i] + mu[j] * k[j])**2\n",
    "    p4 = B1 * f/(k[i] * k[j]) * ((mu[i]**2 + mu[j]**2) * k[i] * k[j] + mu[i] * mu[j] * (k[i]**2 + k[j]**2))\n",
    "    return p1 + p2 + p3 + p4 \n",
    "\n",
    "\n",
    "def KGR2(i,j,l,k,mu,beta):\n",
    "    cosinus = get_cosinus(i,j,k)\n",
    "    E_f = E(i,j,l,k)\n",
    "    F_f = F(i,j,l,k)\n",
    "    G_f = G(i,j,l,k)\n",
    "    k_prod = k[i]**2 * k[j]**2\n",
    "    #p1 = beta[1] + E_f * beta[2] \n",
    "    #p2 = 1j* ((mu[i] * k[i] + mu[j] * k[j]) * beta[3] + mu[l] * k[l] * (beta[4] + E_f * beta[5]) )\n",
    "    #p3 = k_prod/(k[l]**2) * (F_f * beta[6] + G_f * beta[7]) + (mu[i] * k[i] * mu[j] * k[j])*beta[8]\n",
    "    #p4 = mu[l]**2 * k[l]**2 * (beta[9] + E_f * beta[10]) + (k[i] * k[j] * cosinus) * beta[11]\n",
    "    #p5 = (k[i]**2 + k[j]**2) * beta[12] + (mu[i]**2 * k[i]**2 + mu[j]**2 * k[j]**2) * beta[13] \n",
    "    p_comp1 = (mu[i] * k[i]**3 + mu[j] * k[j]**3) * beta[14]\n",
    "    p_comp2 = (mu[i] * k[i] + mu[j] * k[j]) * k[i] * k[j] * cosinus * beta[15]\n",
    "    p_comp3 = k[i] * k[j] * (mu[i] * k[j] + mu[j] * k[i]) * beta[16]\n",
    "    p_comp4 = (mu[i]**3 * k[i]**3 + mu[j]**3 * k[j]**3) * beta[17]\n",
    "    p_comp5 = mu[i] * mu[j] * k[i] * k[j] * (mu[i] * k[i] + mu[j] * k[j]) * beta[18]\n",
    "    p_comp6 = mu[l] * k_prod/k[l] * G_f * beta[19]\n",
    "    #real = p1 + p2 + p3 + p4 + p5\n",
    "    comp = p_comp1 + p_comp2 + p_comp3 + p_comp4 + p_comp5 + p_comp6\n",
    "    return  (1/k_prod) * (1j * comp)\n",
    "\n",
    "\n",
    "# def B_perm(i,j,l,k,mu,B1,B2,gamma1,gamma2,beta,f):\n",
    "#     f1 = KN1(i,mu,B1,f) * KGR1(j,mu,k,gamma1,gamma2) * KN2(i,j,l,k,mu,B1,B2,f) \n",
    "#     f2 = KN1(j,mu,B1,f) * KGR1(i,mu,k,gamma1,gamma2) * KN2(i,j,l,k,mu,B1,B2,f)\n",
    "#     f3 = KN1(i,mu,B1,f) * KN1(j,mu,B1,f) * KGR2(i,j,l,k,mu,beta)\n",
    "#     return (f1 + f2 + f3) * Pm(i,k) * Pm(j,k)\n",
    "\n",
    "\n",
    "def B_perm(i,j,l,k,mu,B1,B2,gamma1,gamma2,beta,f):\n",
    "    return (KN1(i,mu,B1,f) * KN1(j,mu,B1,f) * KN2(i,j,l,k,mu,B1,B2,f)) * Pm(i,k) * Pm(j,k)\n",
    "\n",
    "\n",
    "def B_full(k,mu,B1,B2,gamma1,gamma2,beta,f):\n",
    "    return  (B_perm(1,2,3,k,mu,B1,B2,gamma1,gamma2,beta,f) + B_perm(1,3,2,k,mu,B1,B2,gamma1,gamma2,beta,f) + B_perm(2,3,1,k,mu,B1,B2,gamma1,gamma2,beta,f)) # * np.exp(- (1/2) * (k[1]**2 * mu[1]**2 + k[2]**2 * mu[2]**2 + k[3]**2 * mu[3]**2) * sigma**2)\n",
    "\n",
    "def P_twiddle(i,k,mu,B1,f):\n",
    "    return KN1(i,mu,B1,f)**2 * Pm(i,k) *  np.exp(- (1/2) * ((k[i] * mu[i] * sigma)**2)) + (1/ng_euclid) \n",
    "\n",
    "def P_galaxy(i,k,mu,B1,f):\n",
    "    return KN1(i,mu,B1,f)**2 * Pm(i,k) *  np.exp(- (1/2) * ((k[i] * mu[i] * sigma)**2))\n",
    "\n",
    "def s_B(k):\n",
    "    if (k[1]==k[2] and k[2]==k[3]):\n",
    "        return 6\n",
    "    elif (k[1]==k[2] or k[1]==k[3] or k[2]==k[3]):\n",
    "        return 2\n",
    "    else:\n",
    "        return 1\n"
   ]
  },
  {
   "cell_type": "code",
   "execution_count": 34,
   "metadata": {},
   "outputs": [],
   "source": [
    "kf = (2 * np.pi) / pow(v_euclid, 1./3.)\n",
    "deltamu = 0.04\n",
    "deltaphi = np.pi/25\n",
    "mu_range = 2.0\n",
    "phi_range = 2 * np.pi\n",
    "deltaz = 0.1\n",
    "#n_s from Planck best fit 2018:\n",
    "n_s = 0.9665\n",
    "kmin = kf\n",
    "kmax = 0.15 * hubble #0.1 * hubble * pow((1 + Z),(2/(2 + n_s)) )  #0.15*hubble\n",
    "deltak =  kf \n",
    "\n",
    "mu_bins = np.arange(-1,1,deltamu)\n",
    "phi_bins = np.arange(0,2*np.pi,deltaphi)\n",
    "\n",
    "k_bins = np.geomspace(kmin,kmax,(kmax-kmin)/deltak)\n",
    "k1_bins = np.arange(kmin,kmax+deltak,deltak)\n",
    "k2_bins = np.arange(kmin,kmax,deltak)\n",
    "k3_bins = np.arange(kmin,kmax,deltak)"
   ]
  },
  {
   "cell_type": "code",
   "execution_count": 6,
   "metadata": {},
   "outputs": [
    {
     "data": {
      "text/plain": [
       "0.0026604706617130874"
      ]
     },
     "execution_count": 6,
     "metadata": {},
     "output_type": "execute_result"
    }
   ],
   "source": [
    "kf"
   ]
  },
  {
   "cell_type": "code",
   "execution_count": 25,
   "metadata": {},
   "outputs": [
    {
     "data": {
      "text/plain": [
       "37"
      ]
     },
     "execution_count": 25,
     "metadata": {},
     "output_type": "execute_result"
    }
   ],
   "source": [
    "len(k_bins\n",
    "   )"
   ]
  },
  {
   "cell_type": "code",
   "execution_count": 40,
   "metadata": {},
   "outputs": [
    {
     "ename": "ValueError",
     "evalue": "Number of samples, -1, must be non-negative.",
     "output_type": "error",
     "traceback": [
      "\u001b[0;31m---------------------------------------------------------------------------\u001b[0m",
      "\u001b[0;31mValueError\u001b[0m                                Traceback (most recent call last)",
      "\u001b[0;32m<ipython-input-40-67b781820246>\u001b[0m in \u001b[0;36m<module>\u001b[0;34m\u001b[0m\n\u001b[1;32m      2\u001b[0m \u001b[0;32mfor\u001b[0m \u001b[0mk1\u001b[0m \u001b[0;32min\u001b[0m \u001b[0mk_bins\u001b[0m\u001b[0;34m:\u001b[0m\u001b[0;34m\u001b[0m\u001b[0;34m\u001b[0m\u001b[0m\n\u001b[1;32m      3\u001b[0m     \u001b[0;32mfor\u001b[0m \u001b[0mk2\u001b[0m \u001b[0;32min\u001b[0m \u001b[0mk_bins\u001b[0m\u001b[0;34m[\u001b[0m\u001b[0mk_bins\u001b[0m\u001b[0;34m<=\u001b[0m\u001b[0mk1\u001b[0m\u001b[0;34m]\u001b[0m\u001b[0;34m:\u001b[0m\u001b[0;34m\u001b[0m\u001b[0;34m\u001b[0m\u001b[0m\n\u001b[0;32m----> 4\u001b[0;31m         \u001b[0;32mfor\u001b[0m \u001b[0mk3\u001b[0m \u001b[0;32min\u001b[0m \u001b[0mnp\u001b[0m\u001b[0;34m.\u001b[0m\u001b[0mgeomspace\u001b[0m\u001b[0;34m(\u001b[0m\u001b[0mmax\u001b[0m\u001b[0;34m(\u001b[0m\u001b[0mkmin\u001b[0m\u001b[0;34m,\u001b[0m\u001b[0mabs\u001b[0m\u001b[0;34m(\u001b[0m\u001b[0mk1\u001b[0m\u001b[0;34m-\u001b[0m\u001b[0mk2\u001b[0m\u001b[0;34m)\u001b[0m\u001b[0;34m)\u001b[0m\u001b[0;34m,\u001b[0m\u001b[0mk2\u001b[0m\u001b[0;34m,\u001b[0m\u001b[0;34m(\u001b[0m\u001b[0mk2\u001b[0m\u001b[0;34m-\u001b[0m\u001b[0mmax\u001b[0m\u001b[0;34m(\u001b[0m\u001b[0mkmin\u001b[0m\u001b[0;34m,\u001b[0m\u001b[0mabs\u001b[0m\u001b[0;34m(\u001b[0m\u001b[0mk1\u001b[0m\u001b[0;34m-\u001b[0m\u001b[0mk2\u001b[0m\u001b[0;34m)\u001b[0m\u001b[0;34m)\u001b[0m\u001b[0;34m)\u001b[0m\u001b[0;34m/\u001b[0m\u001b[0mdeltak\u001b[0m\u001b[0;34m)\u001b[0m\u001b[0;34m:\u001b[0m  \u001b[0;31m#k3_bins[k3_bins<=k2]:\u001b[0m\u001b[0;34m\u001b[0m\u001b[0;34m\u001b[0m\u001b[0m\n\u001b[0m\u001b[1;32m      5\u001b[0m             \u001b[0;32mif\u001b[0m \u001b[0mk1\u001b[0m\u001b[0;34m>=\u001b[0m\u001b[0mk2\u001b[0m\u001b[0;34m>=\u001b[0m\u001b[0mk3\u001b[0m\u001b[0;34m:\u001b[0m\u001b[0;34m\u001b[0m\u001b[0;34m\u001b[0m\u001b[0m\n\u001b[1;32m      6\u001b[0m                 \u001b[0;32mtry\u001b[0m\u001b[0;34m:\u001b[0m\u001b[0;34m\u001b[0m\u001b[0;34m\u001b[0m\u001b[0m\n",
      "\u001b[0;32m<__array_function__ internals>\u001b[0m in \u001b[0;36mgeomspace\u001b[0;34m(*args, **kwargs)\u001b[0m\n",
      "\u001b[0;32m~/.local/lib/python3.6/site-packages/numpy/core/function_base.py\u001b[0m in \u001b[0;36mgeomspace\u001b[0;34m(start, stop, num, endpoint, dtype, axis)\u001b[0m\n\u001b[1;32m    424\u001b[0m     \u001b[0mlog_stop\u001b[0m \u001b[0;34m=\u001b[0m \u001b[0m_nx\u001b[0m\u001b[0;34m.\u001b[0m\u001b[0mlog10\u001b[0m\u001b[0;34m(\u001b[0m\u001b[0mstop\u001b[0m\u001b[0;34m)\u001b[0m\u001b[0;34m\u001b[0m\u001b[0;34m\u001b[0m\u001b[0m\n\u001b[1;32m    425\u001b[0m     result = out_sign * logspace(log_start, log_stop, num=num,\n\u001b[0;32m--> 426\u001b[0;31m                                  endpoint=endpoint, base=10.0, dtype=dtype)\n\u001b[0m\u001b[1;32m    427\u001b[0m     \u001b[0;32mif\u001b[0m \u001b[0maxis\u001b[0m \u001b[0;34m!=\u001b[0m \u001b[0;36m0\u001b[0m\u001b[0;34m:\u001b[0m\u001b[0;34m\u001b[0m\u001b[0;34m\u001b[0m\u001b[0m\n\u001b[1;32m    428\u001b[0m         \u001b[0mresult\u001b[0m \u001b[0;34m=\u001b[0m \u001b[0m_nx\u001b[0m\u001b[0;34m.\u001b[0m\u001b[0mmoveaxis\u001b[0m\u001b[0;34m(\u001b[0m\u001b[0mresult\u001b[0m\u001b[0;34m,\u001b[0m \u001b[0;36m0\u001b[0m\u001b[0;34m,\u001b[0m \u001b[0maxis\u001b[0m\u001b[0;34m)\u001b[0m\u001b[0;34m\u001b[0m\u001b[0;34m\u001b[0m\u001b[0m\n",
      "\u001b[0;32m<__array_function__ internals>\u001b[0m in \u001b[0;36mlogspace\u001b[0;34m(*args, **kwargs)\u001b[0m\n",
      "\u001b[0;32m~/.local/lib/python3.6/site-packages/numpy/core/function_base.py\u001b[0m in \u001b[0;36mlogspace\u001b[0;34m(start, stop, num, endpoint, base, dtype, axis)\u001b[0m\n\u001b[1;32m    275\u001b[0m \u001b[0;34m\u001b[0m\u001b[0m\n\u001b[1;32m    276\u001b[0m     \"\"\"\n\u001b[0;32m--> 277\u001b[0;31m     \u001b[0my\u001b[0m \u001b[0;34m=\u001b[0m \u001b[0mlinspace\u001b[0m\u001b[0;34m(\u001b[0m\u001b[0mstart\u001b[0m\u001b[0;34m,\u001b[0m \u001b[0mstop\u001b[0m\u001b[0;34m,\u001b[0m \u001b[0mnum\u001b[0m\u001b[0;34m=\u001b[0m\u001b[0mnum\u001b[0m\u001b[0;34m,\u001b[0m \u001b[0mendpoint\u001b[0m\u001b[0;34m=\u001b[0m\u001b[0mendpoint\u001b[0m\u001b[0;34m,\u001b[0m \u001b[0maxis\u001b[0m\u001b[0;34m=\u001b[0m\u001b[0maxis\u001b[0m\u001b[0;34m)\u001b[0m\u001b[0;34m\u001b[0m\u001b[0;34m\u001b[0m\u001b[0m\n\u001b[0m\u001b[1;32m    278\u001b[0m     \u001b[0;32mif\u001b[0m \u001b[0mdtype\u001b[0m \u001b[0;32mis\u001b[0m \u001b[0;32mNone\u001b[0m\u001b[0;34m:\u001b[0m\u001b[0;34m\u001b[0m\u001b[0;34m\u001b[0m\u001b[0m\n\u001b[1;32m    279\u001b[0m         \u001b[0;32mreturn\u001b[0m \u001b[0m_nx\u001b[0m\u001b[0;34m.\u001b[0m\u001b[0mpower\u001b[0m\u001b[0;34m(\u001b[0m\u001b[0mbase\u001b[0m\u001b[0;34m,\u001b[0m \u001b[0my\u001b[0m\u001b[0;34m)\u001b[0m\u001b[0;34m\u001b[0m\u001b[0;34m\u001b[0m\u001b[0m\n",
      "\u001b[0;32m<__array_function__ internals>\u001b[0m in \u001b[0;36mlinspace\u001b[0;34m(*args, **kwargs)\u001b[0m\n",
      "\u001b[0;32m~/.local/lib/python3.6/site-packages/numpy/core/function_base.py\u001b[0m in \u001b[0;36mlinspace\u001b[0;34m(start, stop, num, endpoint, retstep, dtype, axis)\u001b[0m\n\u001b[1;32m    128\u001b[0m     \u001b[0mnum\u001b[0m \u001b[0;34m=\u001b[0m \u001b[0m_index_deprecate\u001b[0m\u001b[0;34m(\u001b[0m\u001b[0mnum\u001b[0m\u001b[0;34m)\u001b[0m\u001b[0;34m\u001b[0m\u001b[0;34m\u001b[0m\u001b[0m\n\u001b[1;32m    129\u001b[0m     \u001b[0;32mif\u001b[0m \u001b[0mnum\u001b[0m \u001b[0;34m<\u001b[0m \u001b[0;36m0\u001b[0m\u001b[0;34m:\u001b[0m\u001b[0;34m\u001b[0m\u001b[0;34m\u001b[0m\u001b[0m\n\u001b[0;32m--> 130\u001b[0;31m         \u001b[0;32mraise\u001b[0m \u001b[0mValueError\u001b[0m\u001b[0;34m(\u001b[0m\u001b[0;34m\"Number of samples, %s, must be non-negative.\"\u001b[0m \u001b[0;34m%\u001b[0m \u001b[0mnum\u001b[0m\u001b[0;34m)\u001b[0m\u001b[0;34m\u001b[0m\u001b[0;34m\u001b[0m\u001b[0m\n\u001b[0m\u001b[1;32m    131\u001b[0m     \u001b[0mdiv\u001b[0m \u001b[0;34m=\u001b[0m \u001b[0;34m(\u001b[0m\u001b[0mnum\u001b[0m \u001b[0;34m-\u001b[0m \u001b[0;36m1\u001b[0m\u001b[0;34m)\u001b[0m \u001b[0;32mif\u001b[0m \u001b[0mendpoint\u001b[0m \u001b[0;32melse\u001b[0m \u001b[0mnum\u001b[0m\u001b[0;34m\u001b[0m\u001b[0;34m\u001b[0m\u001b[0m\n\u001b[1;32m    132\u001b[0m \u001b[0;34m\u001b[0m\u001b[0m\n",
      "\u001b[0;31mValueError\u001b[0m: Number of samples, -1, must be non-negative."
     ]
    }
   ],
   "source": [
    "klist = []\n",
    "for k1 in k_bins:\n",
    "    for k2 in k_bins[k_bins<=k1]:\n",
    "        for k3 in np.arange(max(kmin,abs(k1-k2)),k2,deltak):  #k3_bins[k3_bins<=k2]:\n",
    "            if k1>=k2>=k3:\n",
    "                try:\n",
    "                    if (math.isclose((get_theta(k1,k2,k3)+get_theta(k1,k3,k2)+get_theta(k2,k3,k1)),2*np.pi,abs_tol=0.0005)):\n",
    "                        k = {1:k1, 2:k2, 3:k3, \"theta\":get_theta(k1,k2,k3)}\n",
    "                        klist.append(k)\n",
    "                except NotATriangle:\n",
    "                    continue\n"
   ]
  },
  {
   "cell_type": "code",
   "execution_count": 38,
   "metadata": {},
   "outputs": [],
   "source": [
    "klist = []\n",
    "for k1 in k_bins:\n",
    "    for k2 in k_bins[k_bins<=k1]:\n",
    "        for k3 in np.arange(max(kmin,abs(k1-k2)),k2,deltak):  #k3_bins[k3_bins<=k2]:\n",
    "            try:\n",
    "                k = {1:k1, 2:k2, 3:k3, \"theta\":get_theta(k1,k2,k3)}\n",
    "                klist.append(k)\n",
    "            except NotATriangle:\n",
    "                continue\n"
   ]
  },
  {
   "cell_type": "code",
   "execution_count": 36,
   "metadata": {},
   "outputs": [
    {
     "data": {
      "text/plain": [
       "[0.003932117442673793,\n",
       " 0.004350669145496261,\n",
       " 0.004813773314131267,\n",
       " 0.005326172307041547,\n",
       " 0.005893113279975014,\n",
       " 0.0065204019187858646,\n",
       " 0.00721446189181123,\n",
       " 0.007982400630617588,\n",
       " 0.008832082112736367,\n",
       " 0.009772207391710733,\n",
       " 0.01081240369911136,\n",
       " 0.011963323030958607,\n",
       " 0.013236751228112882,\n",
       " 0.014645728667656701,\n",
       " 0.01620468380119291,\n",
       " 0.01792958090754103,\n",
       " 0.019838083572873838,\n",
       " 0.021949735572391608,\n",
       " 0.02428616100582941,\n",
       " 0.026871285736259253,\n",
       " 0.02973158239980261,\n",
       " 0.032896341495243585,\n",
       " 0.036397971329600966,\n",
       " 0.0402723298912132,\n",
       " 0.04455909204883929,\n",
       " 0.049302155837031465,\n",
       " 0.05455009198829159,\n",
       " 0.06035664131538807,\n",
       " 0.06678126503721228,\n",
       " 0.07388975368371548,\n",
       " 0.08175490081533886,\n",
       " 0.0904572484560731,\n",
       " 0.10008591187365905,\n",
       " 0.11073949215298412,\n",
       " 0.12252708590776513,\n",
       " 0.13556940247033905,\n",
       " 0.15]"
      ]
     },
     "execution_count": 36,
     "metadata": {},
     "output_type": "execute_result"
    }
   ],
   "source": [
    "k2 = []\n",
    "for i in k_bins:\n",
    "    k2.append(i/hubble)\n",
    "    \n",
    "    \n",
    "\n",
    "k2"
   ]
  },
  {
   "cell_type": "code",
   "execution_count": 39,
   "metadata": {},
   "outputs": [
    {
     "data": {
      "text/plain": [
       "1396"
      ]
     },
     "execution_count": 39,
     "metadata": {},
     "output_type": "execute_result"
    }
   ],
   "source": [
    "len(klist)"
   ]
  },
  {
   "cell_type": "code",
   "execution_count": 32,
   "metadata": {},
   "outputs": [],
   "source": [
    "klist = []\n",
    "for k1 in k_bins:\n",
    "    for k2 in k_bins[k_bins>k1]:\n",
    "        for k3 in k_bins[k_bins <= min(k1+k2,max(k1,k2))]:  #k3_bins[k3_bins<=k2]:\n",
    "                try:\n",
    "                    if (math.isclose((get_theta(k1,k2,k3)+get_theta(k1,k3,k2)+get_theta(k2,k3,k1)),2*np.pi,abs_tol=0.0005)):\n",
    "                        k = {1:k1, 2:k2, 3:k3, \"theta\":get_theta(k1,k2,k3)}\n",
    "                        klist.append(k)\n",
    "                except NotATriangle:\n",
    "                    continue"
   ]
  },
  {
   "cell_type": "code",
   "execution_count": 27,
   "metadata": {},
   "outputs": [
    {
     "data": {
      "text/plain": [
       "1.8764087152516904"
      ]
     },
     "execution_count": 27,
     "metadata": {},
     "output_type": "execute_result"
    }
   ],
   "source": [
    "4995/2662"
   ]
  },
  {
   "cell_type": "code",
   "execution_count": 53,
   "metadata": {},
   "outputs": [
    {
     "data": {
      "text/plain": [
       "array([0.00266047, 0.00532094, 0.00798141, 0.01064188, 0.01330235,\n",
       "       0.01596282, 0.01862329, 0.02128377, 0.02394424, 0.02660471,\n",
       "       0.02926518, 0.03192565, 0.03458612, 0.03724659, 0.03990706,\n",
       "       0.04256753, 0.045228  , 0.04788847, 0.05054894, 0.05320941,\n",
       "       0.05586988, 0.05853035, 0.06119083, 0.0638513 , 0.06651177,\n",
       "       0.06917224, 0.07183271, 0.07449318, 0.07715365, 0.07981412,\n",
       "       0.08247459, 0.08513506, 0.08779553, 0.090456  , 0.09311647,\n",
       "       0.09577694, 0.09843741, 0.10109789])"
      ]
     },
     "execution_count": 53,
     "metadata": {},
     "output_type": "execute_result"
    }
   ],
   "source": [
    "k2_bins"
   ]
  },
  {
   "cell_type": "code",
   "execution_count": 61,
   "metadata": {},
   "outputs": [
    {
     "data": {
      "text/plain": [
       "array([0.7, 0.8, 0.9, 1. , 1.1, 1.2, 1.3, 1.4, 1.5, 1.6, 1.7, 1.8, 1.9])"
      ]
     },
     "execution_count": 61,
     "metadata": {},
     "output_type": "execute_result"
    }
   ],
   "source": [
    "np.arange(0.7,2.0,0.1)"
   ]
  },
  {
   "cell_type": "code",
   "execution_count": 13,
   "metadata": {},
   "outputs": [
    {
     "data": {
      "text/plain": [
       "True"
      ]
     },
     "execution_count": 13,
     "metadata": {},
     "output_type": "execute_result"
    }
   ],
   "source": [
    "math.isclose(0.01,0.02,abs_tol=0.01)"
   ]
  },
  {
   "cell_type": "code",
   "execution_count": null,
   "metadata": {},
   "outputs": [],
   "source": []
  }
 ],
 "metadata": {
  "kernelspec": {
   "display_name": "Python 3",
   "language": "python",
   "name": "python3"
  },
  "language_info": {
   "codemirror_mode": {
    "name": "ipython",
    "version": 3
   },
   "file_extension": ".py",
   "mimetype": "text/x-python",
   "name": "python",
   "nbconvert_exporter": "python",
   "pygments_lexer": "ipython3",
   "version": "3.6.9"
  }
 },
 "nbformat": 4,
 "nbformat_minor": 2
}
